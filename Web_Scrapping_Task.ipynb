{
 "cells": [
  {
   "cell_type": "code",
   "execution_count": 5,
   "id": "0827f381",
   "metadata": {},
   "outputs": [
    {
     "name": "stdout",
     "output_type": "stream",
     "text": [
      "Scraping and writing to CSV completed.\n"
     ]
    }
   ],
   "source": [
    "import requests\n",
    "from bs4 import BeautifulSoup\n",
    "from csv import writer\n",
    "\n",
    "days = ['Monday', 'Tuesday', 'Wednesday', 'Thursday', 'Friday', 'Saturday', 'Sunday']\n",
    "regions = [1, 2, 3]\n",
    "\n",
    "for region in regions:\n",
    "    for day in days:\n",
    "        url = f'https://www.fireandemergency.nz/incidents-and-news/incident-reports/incidents?region={region}&day={day}'\n",
    "\n",
    "        response = requests.get(url)\n",
    "        soup = BeautifulSoup(response.content, 'html.parser')\n",
    "\n",
    "        if region == 1:\n",
    "            filename = 'North.csv'\n",
    "        elif region == 2:\n",
    "            filename = 'Central.csv'\n",
    "        elif region == 3:\n",
    "            filename = 'South.csv'\n",
    "\n",
    "        with open(filename, 'a', newline='', encoding='utf8') as f:\n",
    "            thewriter = writer(f)\n",
    "\n",
    "            \n",
    "            if f.tell() == 0:\n",
    "                header = ['Day', 'Incident Number', 'Date and Time', 'Location', 'Duration', 'Attending Stations/Brigades', 'Result']\n",
    "                thewriter.writerow(header)\n",
    "\n",
    "            report = soup.find_all('div', class_='report')\n",
    "            reports = report[1:]\n",
    "\n",
    "            for a_report in reports:\n",
    "                a_report_data = a_report.find_all('div', class_='report__table__cell--value')\n",
    "                incidentno = a_report_data[0].find('p').text\n",
    "                date_n_time = a_report_data[1].find('p').text\n",
    "                location = a_report_data[2].find('p').text\n",
    "                duration = a_report_data[3].find('p').text\n",
    "                attending_stations = a_report_data[4].find('p').text\n",
    "                result = a_report_data[5].find('p').text\n",
    "\n",
    "                data = [day, incidentno, date_n_time, location, duration, attending_stations, result]\n",
    "                thewriter.writerow(data)\n"
   ]
  },
  {
   "cell_type": "code",
   "execution_count": null,
   "id": "81106a31",
   "metadata": {},
   "outputs": [],
   "source": []
  }
 ],
 "metadata": {
  "kernelspec": {
   "display_name": "Python 3 (ipykernel)",
   "language": "python",
   "name": "python3"
  },
  "language_info": {
   "codemirror_mode": {
    "name": "ipython",
    "version": 3
   },
   "file_extension": ".py",
   "mimetype": "text/x-python",
   "name": "python",
   "nbconvert_exporter": "python",
   "pygments_lexer": "ipython3",
   "version": "3.11.4"
  }
 },
 "nbformat": 4,
 "nbformat_minor": 5
}
